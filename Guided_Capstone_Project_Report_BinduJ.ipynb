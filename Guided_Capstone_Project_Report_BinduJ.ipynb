{
 "cells": [
  {
   "cell_type": "markdown",
   "metadata": {},
   "source": [
    "# Project report -  Big Mountain Resort\n",
    "\n",
    "Big Mountain resort, a ski resort in Montana had recently installed a chair lift which increases their operating cost by \\\\$1,540,000 this season. The resort needs pricing guidance on how to select a better value for their ticket price, so that they can consider a number of changes that will either cut costs without undermining the ticket price or will support an even higher ticket price.\n",
    "\n",
    "Big Mountain suspects it may not be maximizing its returns, relative to its position in the market. It also does not have a strong sence of what facilities matter most to visitors, particularly which ones they're most likely to pay for. "
   ]
  },
  {
   "cell_type": "markdown",
   "metadata": {},
   "source": [
    "### Data\n",
    "\n",
    "We analyzed data from 330 of Big Mountain resorts competitors from across the US. Data set contained name, state, region and \n",
    "24 different facilities information for each ski resorts."
   ]
  },
  {
   "cell_type": "markdown",
   "metadata": {},
   "source": [
    "### Project Scope for success\n",
    "1. Provide clear pricing strategy guideline.\n",
    "2. Focus on attracting more visitors to the ski resort by advertising the resort's many facilities"
   ]
  },
  {
   "cell_type": "markdown",
   "metadata": {},
   "source": [
    "## Data cleaning\n",
    "\n",
    "In cleaning the data, we find that just over 82% of resorts have no missing ticket price, 3% are missing one value, and 14% are missing both. So these 14% (about 47) resorts that have no price data are removed from the dataset.\n",
    "\n",
    "The following changes where made of the data:\n",
    "1. SkiableTerrain_ac value for Silverton Mountain Resort in Colorado was changed after a web search\n",
    "2. Heavenly Mountain Resort in California has a suspect skiable area value and no ticket pricing information,so data for this resort was removed\n",
    "3. fastEight values for all the resorts were removed as half the values were missing\n",
    "4. yearsOpen has a maximum of 2019, which strongly suggests someone recorded calendar year rather than number of years. So this resort data was removed\n",
    "5. Removing rows which does not contain weekday price.\n",
    "6. Removing AdultWeekday price, as Big Mountain charges ($81) the same price for both weekend and weekday. Hence only AdultWeekend price is considered."
   ]
  },
  {
   "cell_type": "markdown",
   "metadata": {},
   "source": [
    "## Exploring the Data\n",
    "\n",
    "After cleaning the data, for each state the total resorts, total skiable area, total terrain parks, total days open in an year and total night skiing are recorded. Population and total area data for each US states are obtained from wikipedia and added to this data. So the final data contains 277 different ski resort information.\n",
    "\n",
    "After visualizing the data using PCA and using a scatter plot to see the distribution of the states with additional information about the average price, there is not an obvious pattern between state and ticket price and the state label didn't seem to be particularly useful. So can treat all states equally and work towards building a pricing model that considers all states together."
   ]
  },
  {
   "cell_type": "markdown",
   "metadata": {},
   "source": [
    "### Important Features\n",
    "\n",
    "So after creating a series of scatterplots with ticket price against each features we can see that there's a strong positive correlation with the following features and ticket price:\n",
    "* vertical_drop\n",
    "* Runs\n",
    "* fastQuad\n",
    "* total_chairs "
   ]
  },
  {
   "cell_type": "markdown",
   "metadata": {},
   "source": [
    "## Pre- processing and Training Data\n",
    "\n",
    "The linear models that were built with both imputing missing values with mean and imputing missing values with median and the final results were not that different from each models. Since all the features were used to model, and overfitting was a concern.\n",
    "\n",
    "Using cross-validation technique and partitioning the training set into k folds and training the model on k-1 of those folds and calculating the performance on the fold not used in training, we can overcome this problem. \n",
    "\n",
    "Using sklearn's GridSearchCV to select the best number of combination, i.e k of features that give the best performance, we find that a good value for k is 8 and accessing the features that gave this performance shows the following: \n",
    "* vertical_drop \n",
    "* Snow Making_ac \n",
    "* total_chairs \n",
    "* fastQuads \n",
    "* Runs \n",
    "* LongestRun_mi \n",
    "* trams\n",
    "* SkiableTerrain_ac\n",
    "\n",
    "Where vertical drop is the biggest positively associated feature with ticket price. And trams and SkiableTerrain_ac are negatively associated with the ticket price.\n",
    "\n",
    "Using random forest regressor, finds that imputing with median is better, but scaling the features does not help in the performance. The four features that was dominant after this model was:\n",
    "* fastQuads\n",
    "* Runs\n",
    "* Snow Making_ac \n",
    "* vertical_drop.\n",
    "\n"
   ]
  },
  {
   "cell_type": "markdown",
   "metadata": {},
   "source": [
    "## Modeling\n",
    "\n",
    "Big Mountain currently charges \\\\$81 for an adult ticket price. \n",
    "Suggested price after modelling is \\\\$95.87, and even with the expected mean absolute error of \\\\$10.39, it shows that there is room for increasing the ticket price. After evaluating each dominant feature and comparing with Big Mountain, we can see that Big Mountain is well ahead of other resorts in vertical drop, snow making area, total number of chairs, fast quads, runs, longest run and skiable terrain area."
   ]
  },
  {
   "cell_type": "markdown",
   "metadata": {},
   "source": [
    "### Modelling Scenarios\n",
    "\n",
    "These are the four scenarios after modelling: \n",
    "\n",
    "* Scenario 1: We see that closing one run makes no difference. Closing 2 and 3 runs successively reduces support for ticket price and so revenue. Can close up to 5 runs as there is no further loss in ticket price\n",
    "\n",
    "* Scenario 2: Adding a run, increasing the vertical drop by 150 feet, and installing an additional chair lift, we see that it increases support for ticket price by \\\\$1.99 and over the season this could be expected to amount to \\\\$3,474,638.\n",
    "\n",
    "* Scenario 3: Adding a run, increasing the vertical drop by 150 feet, installing an additional chair lift and adding 2 acres of snow making, makes no difference in revenue increase from previous scenario\n",
    "\n",
    "* Scenario 4: Increasing the longest run by .2 miles and adding 4 acres of snow making capability, also does not predict any increase in revenue.\n"
   ]
  },
  {
   "cell_type": "markdown",
   "metadata": {},
   "source": [
    "## Recommendations\n",
    "\n",
    "Given these scenarios, we can recommend increasing the vertical drop by 150 feet, and installing an additional chair lift and adding a run to support a ticket price increase of $1.99 and subsequent increase in revenue.\n"
   ]
  },
  {
   "cell_type": "markdown",
   "metadata": {},
   "source": [
    "### Further work\n",
    "\n",
    "One of the deficiencies in the data is the operating cost for the runs. So we cannot determine the revenue lost after closing more than one runs. Since the modelled price shows that the resort was undercharging, we needed to find out if there was any missing key data in our dataset. Since we lack data regarding the operating cost of runs and weekday pricing, we cannot recommend closing down any runs"
   ]
  }
 ],
 "metadata": {
  "kernelspec": {
   "display_name": "Python 3",
   "language": "python",
   "name": "python3"
  },
  "language_info": {
   "codemirror_mode": {
    "name": "ipython",
    "version": 3
   },
   "file_extension": ".py",
   "mimetype": "text/x-python",
   "name": "python",
   "nbconvert_exporter": "python",
   "pygments_lexer": "ipython3",
   "version": "3.8.5"
  }
 },
 "nbformat": 4,
 "nbformat_minor": 4
}
